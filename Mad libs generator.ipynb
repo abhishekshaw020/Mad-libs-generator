{
 "cells": [
  {
   "cell_type": "code",
   "execution_count": 1,
   "id": "db48acf6",
   "metadata": {},
   "outputs": [
    {
     "name": "stdout",
     "output_type": "stream",
     "text": [
      "Choose a noun: well\n",
      "Choose a plural noun: kind\n",
      "Choose a noun: it\n",
      "Name a place: Canada\n",
      "Choose an adjective (Describing word): weather\n",
      "Choose a noun: may\n",
      "------------------------------------------\n",
      "Be kind to your well - footed kind\n",
      "For a duck may be somebody's it ,\n",
      "Be kind to your kind in Canada\n",
      "Where the weather is always weather . \n",
      "\n",
      "You may think that is this the may ,\n",
      "Well it is.\n",
      "------------------------------------------\n"
     ]
    }
   ],
   "source": [
    "'''\n",
    "Mad Libs Generator\n",
    "-------------------------------------------------------------\n",
    "'''\n",
    "\n",
    "# Questions for the user to answer\n",
    "\n",
    "noun = input('Choose a noun: ')\n",
    "\n",
    "p_noun = input('Choose a plural noun: ')\n",
    "\n",
    "noun2 = input('Choose a noun: ')\n",
    "\n",
    "place = input('Name a place: ')\n",
    "\n",
    "adjective = input('Choose an adjective (Describing word): ')\n",
    "\n",
    "noun3 = input('Choose a noun: ')\n",
    "\n",
    "# Print a story from the user input\n",
    "\n",
    "print('------------------------------------------')\n",
    "\n",
    "print('Be kind to your', noun, '- footed', p_noun)\n",
    "\n",
    "print('For a duck may be somebody\\'s', noun2, ',')\n",
    "\n",
    "print('Be kind to your', p_noun, 'in', place)\n",
    "\n",
    "print('Where the weather is always', adjective, '. \\n')\n",
    "\n",
    "print('You may think that is this the', noun3, ',')\n",
    "\n",
    "print('Well it is.')\n",
    "\n",
    "print('------------------------------------------')"
   ]
  },
  {
   "cell_type": "code",
   "execution_count": null,
   "id": "8700ce56",
   "metadata": {},
   "outputs": [],
   "source": []
  }
 ],
 "metadata": {
  "kernelspec": {
   "display_name": "Python 3 (ipykernel)",
   "language": "python",
   "name": "python3"
  },
  "language_info": {
   "codemirror_mode": {
    "name": "ipython",
    "version": 3
   },
   "file_extension": ".py",
   "mimetype": "text/x-python",
   "name": "python",
   "nbconvert_exporter": "python",
   "pygments_lexer": "ipython3",
   "version": "3.11.3"
  }
 },
 "nbformat": 4,
 "nbformat_minor": 5
}
